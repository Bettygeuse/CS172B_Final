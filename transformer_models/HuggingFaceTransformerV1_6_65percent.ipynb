{
 "cells": [
  {
   "cell_type": "code",
   "execution_count": 10,
   "metadata": {},
   "outputs": [
    {
     "name": "stderr",
     "output_type": "stream",
     "text": [
      "c:\\Users\\zln92\\AppData\\Local\\Programs\\Python\\Python310\\lib\\site-packages\\huggingface_hub\\file_download.py:1132: FutureWarning: `resume_download` is deprecated and will be removed in version 1.0.0. Downloads always resume when possible. If you want to force a new download, use `force_download=True`.\n",
      "  warnings.warn(\n"
     ]
    },
    {
     "data": {
      "text/plain": [
       "ViTForImageClassification(\n",
       "  (vit): ViTModel(\n",
       "    (embeddings): ViTEmbeddings(\n",
       "      (patch_embeddings): ViTPatchEmbeddings(\n",
       "        (projection): Conv2d(3, 768, kernel_size=(16, 16), stride=(16, 16))\n",
       "      )\n",
       "      (dropout): Dropout(p=0.0, inplace=False)\n",
       "    )\n",
       "    (encoder): ViTEncoder(\n",
       "      (layer): ModuleList(\n",
       "        (0-11): 12 x ViTLayer(\n",
       "          (attention): ViTAttention(\n",
       "            (attention): ViTSelfAttention(\n",
       "              (query): Linear(in_features=768, out_features=768, bias=True)\n",
       "              (key): Linear(in_features=768, out_features=768, bias=True)\n",
       "              (value): Linear(in_features=768, out_features=768, bias=True)\n",
       "              (dropout): Dropout(p=0.0, inplace=False)\n",
       "            )\n",
       "            (output): ViTSelfOutput(\n",
       "              (dense): Linear(in_features=768, out_features=768, bias=True)\n",
       "              (dropout): Dropout(p=0.0, inplace=False)\n",
       "            )\n",
       "          )\n",
       "          (intermediate): ViTIntermediate(\n",
       "            (dense): Linear(in_features=768, out_features=3072, bias=True)\n",
       "            (intermediate_act_fn): GELUActivation()\n",
       "          )\n",
       "          (output): ViTOutput(\n",
       "            (dense): Linear(in_features=3072, out_features=768, bias=True)\n",
       "            (dropout): Dropout(p=0.0, inplace=False)\n",
       "          )\n",
       "          (layernorm_before): LayerNorm((768,), eps=1e-12, elementwise_affine=True)\n",
       "          (layernorm_after): LayerNorm((768,), eps=1e-12, elementwise_affine=True)\n",
       "        )\n",
       "      )\n",
       "    )\n",
       "    (layernorm): LayerNorm((768,), eps=1e-12, elementwise_affine=True)\n",
       "  )\n",
       "  (classifier): Linear(in_features=768, out_features=1000, bias=True)\n",
       ")"
      ]
     },
     "execution_count": 10,
     "metadata": {},
     "output_type": "execute_result"
    }
   ],
   "source": [
    "import time\n",
    "from tqdm import tqdm\n",
    "from transformers import ViTForImageClassification, ViTFeatureExtractor\n",
    "import torch\n",
    "import torch.optim as optim\n",
    "import torch.nn as nn\n",
    "from torchvision import datasets, transforms\n",
    "from torch.utils.data import DataLoader\n",
    "\n",
    "class CustomClassifier(nn.Module):\n",
    "    def __init__(self, input_dim, num_classes):\n",
    "        super(CustomClassifier, self).__init__()\n",
    "        self.fc1 = nn.Linear(input_dim, 512)\n",
    "        self.fc2 = nn.Linear(512, 256)\n",
    "        self.fc3 = nn.Linear(256, 128)\n",
    "        self.fc4 = nn.Linear(128, 64)\n",
    "        self.fc5 = nn.Linear(64, num_classes)\n",
    "        self.dropout = nn.Dropout(0.5)\n",
    "        self.relu = nn.ReLU()\n",
    "        \n",
    "    def forward(self, x):\n",
    "        x = self.fc1(x)\n",
    "        x = self.relu(x)\n",
    "        x = self.dropout(x)\n",
    "        x = self.fc2(x)\n",
    "        x = self.relu(x)\n",
    "        x = self.dropout(x)\n",
    "        x = self.fc3(x)\n",
    "        x = self.relu(x)\n",
    "        x = self.dropout(x)\n",
    "        x = self.fc4(x)\n",
    "        x = self.relu(x)\n",
    "        x = self.dropout(x)\n",
    "        x = self.fc5(x)\n",
    "        return x\n",
    "    \n",
    "model = ViTForImageClassification.from_pretrained('google/vit-base-patch16-224', ignore_mismatched_sizes=True)\n",
    "device = torch.device('cuda' if torch.cuda.is_available() else 'cpu')\n",
    "model.to(device)"
   ]
  },
  {
   "cell_type": "code",
   "execution_count": 11,
   "metadata": {},
   "outputs": [
    {
     "name": "stderr",
     "output_type": "stream",
     "text": [
      "Training: 100%|██████████| 898/898 [02:31<00:00,  5.94it/s, loss=0.345]\n",
      "Evaluating: 100%|██████████| 225/225 [00:37<00:00,  5.98it/s, loss=1.27] \n",
      "c:\\Users\\zln92\\AppData\\Local\\Programs\\Python\\Python310\\lib\\site-packages\\torch\\optim\\lr_scheduler.py:156: UserWarning: The epoch parameter in `scheduler.step()` was not necessary and is being deprecated where possible. Please use `scheduler.step()` to step the scheduler. During the deprecation, if epoch is different from None, the closed form is used instead of the new chainable form, where available. Please open an issue if you are unable to replicate your use case: https://github.com/pytorch/pytorch/issues/new/choose.\n",
      "  warnings.warn(EPOCH_DEPRECATION_WARNING, UserWarning)\n"
     ]
    },
    {
     "name": "stdout",
     "output_type": "stream",
     "text": [
      "Epoch 1/24\n",
      "Time: 188.94s\n",
      "Train Loss: 1.5116\n",
      "Validation Loss: 1.2423\n",
      "Validation Accuracy: 0.5404\n",
      "------------------------------\n",
      "Model saved with validation loss: 1.2423\n"
     ]
    },
    {
     "name": "stderr",
     "output_type": "stream",
     "text": [
      "Training: 100%|██████████| 898/898 [02:30<00:00,  5.96it/s, loss=1.79] \n",
      "Evaluating: 100%|██████████| 225/225 [00:37<00:00,  6.01it/s, loss=1.13] \n"
     ]
    },
    {
     "name": "stdout",
     "output_type": "stream",
     "text": [
      "Epoch 2/24\n",
      "Time: 188.02s\n",
      "Train Loss: 1.2898\n",
      "Validation Loss: 1.1690\n",
      "Validation Accuracy: 0.5606\n",
      "------------------------------\n",
      "Model saved with validation loss: 1.1690\n"
     ]
    },
    {
     "name": "stderr",
     "output_type": "stream",
     "text": [
      "Training: 100%|██████████| 898/898 [02:31<00:00,  5.94it/s, loss=1.96] \n"
     ]
    },
    {
     "name": "stdout",
     "output_type": "stream",
     "text": [
      "Unfroze layer: vit.encoder.layer.11.attention.attention.query.weight\n",
      "Unfroze layer: vit.encoder.layer.11.attention.attention.query.bias\n",
      "Unfroze layer: vit.encoder.layer.11.attention.attention.key.weight\n",
      "Unfroze layer: vit.encoder.layer.11.attention.attention.key.bias\n",
      "Unfroze layer: vit.encoder.layer.11.attention.attention.value.weight\n",
      "Unfroze layer: vit.encoder.layer.11.attention.attention.value.bias\n",
      "Unfroze layer: vit.encoder.layer.11.attention.output.dense.weight\n",
      "Unfroze layer: vit.encoder.layer.11.attention.output.dense.bias\n",
      "Unfroze layer: vit.encoder.layer.11.intermediate.dense.weight\n",
      "Unfroze layer: vit.encoder.layer.11.intermediate.dense.bias\n",
      "Unfroze layer: vit.encoder.layer.11.output.dense.weight\n",
      "Unfroze layer: vit.encoder.layer.11.output.dense.bias\n",
      "Unfroze layer: vit.encoder.layer.11.layernorm_before.weight\n",
      "Unfroze layer: vit.encoder.layer.11.layernorm_before.bias\n",
      "Unfroze layer: vit.encoder.layer.11.layernorm_after.weight\n",
      "Unfroze layer: vit.encoder.layer.11.layernorm_after.bias\n"
     ]
    },
    {
     "name": "stderr",
     "output_type": "stream",
     "text": [
      "Evaluating: 100%|██████████| 225/225 [00:37<00:00,  5.99it/s, loss=0.713]\n"
     ]
    },
    {
     "name": "stdout",
     "output_type": "stream",
     "text": [
      "Epoch 3/24\n",
      "Time: 188.78s\n",
      "Train Loss: 1.2312\n",
      "Validation Loss: 1.1139\n",
      "Validation Accuracy: 0.5786\n",
      "------------------------------\n",
      "Model saved with validation loss: 1.1139\n"
     ]
    },
    {
     "name": "stderr",
     "output_type": "stream",
     "text": [
      "Training: 100%|██████████| 898/898 [02:51<00:00,  5.23it/s, loss=1.29] \n",
      "Evaluating: 100%|██████████| 225/225 [00:37<00:00,  6.00it/s, loss=0.713]\n"
     ]
    },
    {
     "name": "stdout",
     "output_type": "stream",
     "text": [
      "Epoch 4/24\n",
      "Time: 209.08s\n",
      "Train Loss: 1.1776\n",
      "Validation Loss: 1.0933\n",
      "Validation Accuracy: 0.5854\n",
      "------------------------------\n",
      "Model saved with validation loss: 1.0933\n"
     ]
    },
    {
     "name": "stderr",
     "output_type": "stream",
     "text": [
      "Training: 100%|██████████| 898/898 [02:48<00:00,  5.34it/s, loss=1.09] \n"
     ]
    },
    {
     "name": "stdout",
     "output_type": "stream",
     "text": [
      "Unfroze layer: vit.encoder.layer.10.attention.attention.query.weight\n",
      "Unfroze layer: vit.encoder.layer.10.attention.attention.query.bias\n",
      "Unfroze layer: vit.encoder.layer.10.attention.attention.key.weight\n",
      "Unfroze layer: vit.encoder.layer.10.attention.attention.key.bias\n",
      "Unfroze layer: vit.encoder.layer.10.attention.attention.value.weight\n",
      "Unfroze layer: vit.encoder.layer.10.attention.attention.value.bias\n",
      "Unfroze layer: vit.encoder.layer.10.attention.output.dense.weight\n",
      "Unfroze layer: vit.encoder.layer.10.attention.output.dense.bias\n",
      "Unfroze layer: vit.encoder.layer.10.intermediate.dense.weight\n",
      "Unfroze layer: vit.encoder.layer.10.intermediate.dense.bias\n",
      "Unfroze layer: vit.encoder.layer.10.output.dense.weight\n",
      "Unfroze layer: vit.encoder.layer.10.output.dense.bias\n",
      "Unfroze layer: vit.encoder.layer.10.layernorm_before.weight\n",
      "Unfroze layer: vit.encoder.layer.10.layernorm_before.bias\n",
      "Unfroze layer: vit.encoder.layer.10.layernorm_after.weight\n",
      "Unfroze layer: vit.encoder.layer.10.layernorm_after.bias\n"
     ]
    },
    {
     "name": "stderr",
     "output_type": "stream",
     "text": [
      "Evaluating: 100%|██████████| 225/225 [00:36<00:00,  6.08it/s, loss=0.651]\n"
     ]
    },
    {
     "name": "stdout",
     "output_type": "stream",
     "text": [
      "Epoch 5/24\n",
      "Time: 205.03s\n",
      "Train Loss: 1.1577\n",
      "Validation Loss: 1.0834\n",
      "Validation Accuracy: 0.5903\n",
      "------------------------------\n",
      "Model saved with validation loss: 1.0834\n"
     ]
    },
    {
     "name": "stderr",
     "output_type": "stream",
     "text": [
      "Training: 100%|██████████| 898/898 [03:07<00:00,  4.78it/s, loss=1.79] \n",
      "Evaluating: 100%|██████████| 225/225 [00:37<00:00,  6.07it/s, loss=0.65] \n"
     ]
    },
    {
     "name": "stdout",
     "output_type": "stream",
     "text": [
      "Epoch 6/24\n",
      "Time: 224.87s\n",
      "Train Loss: 1.1369\n",
      "Validation Loss: 1.0664\n",
      "Validation Accuracy: 0.5974\n",
      "------------------------------\n",
      "Model saved with validation loss: 1.0664\n"
     ]
    },
    {
     "name": "stderr",
     "output_type": "stream",
     "text": [
      "Training: 100%|██████████| 898/898 [03:08<00:00,  4.78it/s, loss=1.3]  \n"
     ]
    },
    {
     "name": "stdout",
     "output_type": "stream",
     "text": [
      "Unfroze layer: vit.encoder.layer.9.attention.attention.query.weight\n",
      "Unfroze layer: vit.encoder.layer.9.attention.attention.query.bias\n",
      "Unfroze layer: vit.encoder.layer.9.attention.attention.key.weight\n",
      "Unfroze layer: vit.encoder.layer.9.attention.attention.key.bias\n",
      "Unfroze layer: vit.encoder.layer.9.attention.attention.value.weight\n",
      "Unfroze layer: vit.encoder.layer.9.attention.attention.value.bias\n",
      "Unfroze layer: vit.encoder.layer.9.attention.output.dense.weight\n",
      "Unfroze layer: vit.encoder.layer.9.attention.output.dense.bias\n",
      "Unfroze layer: vit.encoder.layer.9.intermediate.dense.weight\n",
      "Unfroze layer: vit.encoder.layer.9.intermediate.dense.bias\n",
      "Unfroze layer: vit.encoder.layer.9.output.dense.weight\n",
      "Unfroze layer: vit.encoder.layer.9.output.dense.bias\n",
      "Unfroze layer: vit.encoder.layer.9.layernorm_before.weight\n",
      "Unfroze layer: vit.encoder.layer.9.layernorm_before.bias\n",
      "Unfroze layer: vit.encoder.layer.9.layernorm_after.weight\n",
      "Unfroze layer: vit.encoder.layer.9.layernorm_after.bias\n"
     ]
    },
    {
     "name": "stderr",
     "output_type": "stream",
     "text": [
      "Evaluating: 100%|██████████| 225/225 [00:36<00:00,  6.09it/s, loss=0.624]\n"
     ]
    },
    {
     "name": "stdout",
     "output_type": "stream",
     "text": [
      "Epoch 7/24\n",
      "Time: 224.98s\n",
      "Train Loss: 1.1069\n",
      "Validation Loss: 1.0548\n",
      "Validation Accuracy: 0.6010\n",
      "------------------------------\n",
      "Model saved with validation loss: 1.0548\n"
     ]
    },
    {
     "name": "stderr",
     "output_type": "stream",
     "text": [
      "Training: 100%|██████████| 898/898 [03:26<00:00,  4.34it/s, loss=1.09] \n",
      "Evaluating: 100%|██████████| 225/225 [00:36<00:00,  6.09it/s, loss=0.638]\n"
     ]
    },
    {
     "name": "stdout",
     "output_type": "stream",
     "text": [
      "Epoch 8/24\n",
      "Time: 243.84s\n",
      "Train Loss: 1.0758\n",
      "Validation Loss: 1.0367\n",
      "Validation Accuracy: 0.6105\n",
      "------------------------------\n",
      "Model saved with validation loss: 1.0367\n"
     ]
    },
    {
     "name": "stderr",
     "output_type": "stream",
     "text": [
      "Training: 100%|██████████| 898/898 [03:27<00:00,  4.33it/s, loss=1.34] \n"
     ]
    },
    {
     "name": "stdout",
     "output_type": "stream",
     "text": [
      "Unfroze layer: vit.encoder.layer.8.attention.attention.query.weight\n",
      "Unfroze layer: vit.encoder.layer.8.attention.attention.query.bias\n",
      "Unfroze layer: vit.encoder.layer.8.attention.attention.key.weight\n",
      "Unfroze layer: vit.encoder.layer.8.attention.attention.key.bias\n",
      "Unfroze layer: vit.encoder.layer.8.attention.attention.value.weight\n",
      "Unfroze layer: vit.encoder.layer.8.attention.attention.value.bias\n",
      "Unfroze layer: vit.encoder.layer.8.attention.output.dense.weight\n",
      "Unfroze layer: vit.encoder.layer.8.attention.output.dense.bias\n",
      "Unfroze layer: vit.encoder.layer.8.intermediate.dense.weight\n",
      "Unfroze layer: vit.encoder.layer.8.intermediate.dense.bias\n",
      "Unfroze layer: vit.encoder.layer.8.output.dense.weight\n",
      "Unfroze layer: vit.encoder.layer.8.output.dense.bias\n",
      "Unfroze layer: vit.encoder.layer.8.layernorm_before.weight\n",
      "Unfroze layer: vit.encoder.layer.8.layernorm_before.bias\n",
      "Unfroze layer: vit.encoder.layer.8.layernorm_after.weight\n",
      "Unfroze layer: vit.encoder.layer.8.layernorm_after.bias\n"
     ]
    },
    {
     "name": "stderr",
     "output_type": "stream",
     "text": [
      "Evaluating: 100%|██████████| 225/225 [00:36<00:00,  6.09it/s, loss=0.636]\n"
     ]
    },
    {
     "name": "stdout",
     "output_type": "stream",
     "text": [
      "Epoch 9/24\n",
      "Time: 244.18s\n",
      "Train Loss: 1.0384\n",
      "Validation Loss: 1.0328\n",
      "Validation Accuracy: 0.6147\n",
      "------------------------------\n",
      "Model saved with validation loss: 1.0328\n"
     ]
    },
    {
     "name": "stderr",
     "output_type": "stream",
     "text": [
      "Training: 100%|██████████| 898/898 [05:08<00:00,  2.91it/s, loss=1.04] \n",
      "Evaluating: 100%|██████████| 225/225 [01:05<00:00,  3.42it/s, loss=0.698]\n"
     ]
    },
    {
     "name": "stdout",
     "output_type": "stream",
     "text": [
      "Epoch 10/24\n",
      "Time: 373.78s\n",
      "Train Loss: 1.0018\n",
      "Validation Loss: 1.0176\n",
      "Validation Accuracy: 0.6230\n",
      "------------------------------\n",
      "Model saved with validation loss: 1.0176\n"
     ]
    },
    {
     "name": "stderr",
     "output_type": "stream",
     "text": [
      "Training: 100%|██████████| 898/898 [04:24<00:00,  3.39it/s, loss=0.736]\n"
     ]
    },
    {
     "name": "stdout",
     "output_type": "stream",
     "text": [
      "Unfroze layer: vit.encoder.layer.7.attention.attention.query.weight\n",
      "Unfroze layer: vit.encoder.layer.7.attention.attention.query.bias\n",
      "Unfroze layer: vit.encoder.layer.7.attention.attention.key.weight\n",
      "Unfroze layer: vit.encoder.layer.7.attention.attention.key.bias\n",
      "Unfroze layer: vit.encoder.layer.7.attention.attention.value.weight\n",
      "Unfroze layer: vit.encoder.layer.7.attention.attention.value.bias\n",
      "Unfroze layer: vit.encoder.layer.7.attention.output.dense.weight\n",
      "Unfroze layer: vit.encoder.layer.7.attention.output.dense.bias\n",
      "Unfroze layer: vit.encoder.layer.7.intermediate.dense.weight\n",
      "Unfroze layer: vit.encoder.layer.7.intermediate.dense.bias\n",
      "Unfroze layer: vit.encoder.layer.7.output.dense.weight\n",
      "Unfroze layer: vit.encoder.layer.7.output.dense.bias\n",
      "Unfroze layer: vit.encoder.layer.7.layernorm_before.weight\n",
      "Unfroze layer: vit.encoder.layer.7.layernorm_before.bias\n",
      "Unfroze layer: vit.encoder.layer.7.layernorm_after.weight\n",
      "Unfroze layer: vit.encoder.layer.7.layernorm_after.bias\n"
     ]
    },
    {
     "name": "stderr",
     "output_type": "stream",
     "text": [
      "Evaluating: 100%|██████████| 225/225 [00:36<00:00,  6.10it/s, loss=0.79] \n"
     ]
    },
    {
     "name": "stdout",
     "output_type": "stream",
     "text": [
      "Epoch 11/24\n",
      "Time: 301.69s\n",
      "Train Loss: 0.9448\n",
      "Validation Loss: 1.0109\n",
      "Validation Accuracy: 0.6251\n",
      "------------------------------\n",
      "Model saved with validation loss: 1.0109\n"
     ]
    },
    {
     "name": "stderr",
     "output_type": "stream",
     "text": [
      "Training: 100%|██████████| 898/898 [04:05<00:00,  3.66it/s, loss=0.777]\n",
      "Evaluating: 100%|██████████| 225/225 [00:36<00:00,  6.09it/s, loss=0.683]\n"
     ]
    },
    {
     "name": "stdout",
     "output_type": "stream",
     "text": [
      "Epoch 12/24\n",
      "Time: 282.12s\n",
      "Train Loss: 0.8925\n",
      "Validation Loss: 1.0119\n",
      "Validation Accuracy: 0.6318\n",
      "------------------------------\n"
     ]
    },
    {
     "name": "stderr",
     "output_type": "stream",
     "text": [
      "Training: 100%|██████████| 898/898 [04:04<00:00,  3.67it/s, loss=0.719]\n"
     ]
    },
    {
     "name": "stdout",
     "output_type": "stream",
     "text": [
      "Unfroze layer: vit.encoder.layer.6.attention.attention.query.weight\n",
      "Unfroze layer: vit.encoder.layer.6.attention.attention.query.bias\n",
      "Unfroze layer: vit.encoder.layer.6.attention.attention.key.weight\n",
      "Unfroze layer: vit.encoder.layer.6.attention.attention.key.bias\n",
      "Unfroze layer: vit.encoder.layer.6.attention.attention.value.weight\n",
      "Unfroze layer: vit.encoder.layer.6.attention.attention.value.bias\n",
      "Unfroze layer: vit.encoder.layer.6.attention.output.dense.weight\n",
      "Unfroze layer: vit.encoder.layer.6.attention.output.dense.bias\n",
      "Unfroze layer: vit.encoder.layer.6.intermediate.dense.weight\n",
      "Unfroze layer: vit.encoder.layer.6.intermediate.dense.bias\n",
      "Unfroze layer: vit.encoder.layer.6.output.dense.weight\n",
      "Unfroze layer: vit.encoder.layer.6.output.dense.bias\n",
      "Unfroze layer: vit.encoder.layer.6.layernorm_before.weight\n",
      "Unfroze layer: vit.encoder.layer.6.layernorm_before.bias\n",
      "Unfroze layer: vit.encoder.layer.6.layernorm_after.weight\n",
      "Unfroze layer: vit.encoder.layer.6.layernorm_after.bias\n"
     ]
    },
    {
     "name": "stderr",
     "output_type": "stream",
     "text": [
      "Evaluating: 100%|██████████| 225/225 [00:36<00:00,  6.10it/s, loss=0.641]\n"
     ]
    },
    {
     "name": "stdout",
     "output_type": "stream",
     "text": [
      "Epoch 13/24\n",
      "Time: 281.87s\n",
      "Train Loss: 0.8262\n",
      "Validation Loss: 1.0161\n",
      "Validation Accuracy: 0.6442\n",
      "------------------------------\n"
     ]
    },
    {
     "name": "stderr",
     "output_type": "stream",
     "text": [
      "Training: 100%|██████████| 898/898 [04:23<00:00,  3.41it/s, loss=0.914]\n",
      "Evaluating: 100%|██████████| 225/225 [00:36<00:00,  6.11it/s, loss=0.772]\n"
     ]
    },
    {
     "name": "stdout",
     "output_type": "stream",
     "text": [
      "Epoch 14/24\n",
      "Time: 300.39s\n",
      "Train Loss: 0.7568\n",
      "Validation Loss: 1.0476\n",
      "Validation Accuracy: 0.6454\n",
      "------------------------------\n"
     ]
    },
    {
     "name": "stderr",
     "output_type": "stream",
     "text": [
      "Training: 100%|██████████| 898/898 [04:23<00:00,  3.41it/s, loss=1.3]  \n"
     ]
    },
    {
     "name": "stdout",
     "output_type": "stream",
     "text": [
      "Unfroze layer: vit.encoder.layer.5.attention.attention.query.weight\n",
      "Unfroze layer: vit.encoder.layer.5.attention.attention.query.bias\n",
      "Unfroze layer: vit.encoder.layer.5.attention.attention.key.weight\n",
      "Unfroze layer: vit.encoder.layer.5.attention.attention.key.bias\n",
      "Unfroze layer: vit.encoder.layer.5.attention.attention.value.weight\n",
      "Unfroze layer: vit.encoder.layer.5.attention.attention.value.bias\n",
      "Unfroze layer: vit.encoder.layer.5.attention.output.dense.weight\n",
      "Unfroze layer: vit.encoder.layer.5.attention.output.dense.bias\n",
      "Unfroze layer: vit.encoder.layer.5.intermediate.dense.weight\n",
      "Unfroze layer: vit.encoder.layer.5.intermediate.dense.bias\n",
      "Unfroze layer: vit.encoder.layer.5.output.dense.weight\n",
      "Unfroze layer: vit.encoder.layer.5.output.dense.bias\n",
      "Unfroze layer: vit.encoder.layer.5.layernorm_before.weight\n",
      "Unfroze layer: vit.encoder.layer.5.layernorm_before.bias\n",
      "Unfroze layer: vit.encoder.layer.5.layernorm_after.weight\n",
      "Unfroze layer: vit.encoder.layer.5.layernorm_after.bias\n"
     ]
    },
    {
     "name": "stderr",
     "output_type": "stream",
     "text": [
      "Evaluating: 100%|██████████| 225/225 [00:36<00:00,  6.11it/s, loss=0.566]\n"
     ]
    },
    {
     "name": "stdout",
     "output_type": "stream",
     "text": [
      "Epoch 15/24\n",
      "Time: 300.51s\n",
      "Train Loss: 0.6852\n",
      "Validation Loss: 1.0753\n",
      "Validation Accuracy: 0.6454\n",
      "------------------------------\n"
     ]
    },
    {
     "name": "stderr",
     "output_type": "stream",
     "text": [
      "Training: 100%|██████████| 898/898 [04:44<00:00,  3.16it/s, loss=0.535]\n",
      "Evaluating: 100%|██████████| 225/225 [00:37<00:00,  6.04it/s, loss=0.895]\n"
     ]
    },
    {
     "name": "stdout",
     "output_type": "stream",
     "text": [
      "Epoch 16/24\n",
      "Time: 321.86s\n",
      "Train Loss: 0.6115\n",
      "Validation Loss: 1.1413\n",
      "Validation Accuracy: 0.6463\n",
      "------------------------------\n"
     ]
    },
    {
     "name": "stderr",
     "output_type": "stream",
     "text": [
      "Training: 100%|██████████| 898/898 [04:43<00:00,  3.17it/s, loss=0.297]\n"
     ]
    },
    {
     "name": "stdout",
     "output_type": "stream",
     "text": [
      "Unfroze layer: vit.encoder.layer.4.attention.attention.query.weight\n",
      "Unfroze layer: vit.encoder.layer.4.attention.attention.query.bias\n",
      "Unfroze layer: vit.encoder.layer.4.attention.attention.key.weight\n",
      "Unfroze layer: vit.encoder.layer.4.attention.attention.key.bias\n",
      "Unfroze layer: vit.encoder.layer.4.attention.attention.value.weight\n",
      "Unfroze layer: vit.encoder.layer.4.attention.attention.value.bias\n",
      "Unfroze layer: vit.encoder.layer.4.attention.output.dense.weight\n",
      "Unfroze layer: vit.encoder.layer.4.attention.output.dense.bias\n",
      "Unfroze layer: vit.encoder.layer.4.intermediate.dense.weight\n",
      "Unfroze layer: vit.encoder.layer.4.intermediate.dense.bias\n",
      "Unfroze layer: vit.encoder.layer.4.output.dense.weight\n",
      "Unfroze layer: vit.encoder.layer.4.output.dense.bias\n",
      "Unfroze layer: vit.encoder.layer.4.layernorm_before.weight\n",
      "Unfroze layer: vit.encoder.layer.4.layernorm_before.bias\n",
      "Unfroze layer: vit.encoder.layer.4.layernorm_after.weight\n",
      "Unfroze layer: vit.encoder.layer.4.layernorm_after.bias\n"
     ]
    },
    {
     "name": "stderr",
     "output_type": "stream",
     "text": [
      "Evaluating: 100%|██████████| 225/225 [00:37<00:00,  6.06it/s, loss=1.07] \n"
     ]
    },
    {
     "name": "stdout",
     "output_type": "stream",
     "text": [
      "Epoch 17/24\n",
      "Time: 320.63s\n",
      "Train Loss: 0.5367\n",
      "Validation Loss: 1.1881\n",
      "Validation Accuracy: 0.6496\n",
      "------------------------------\n"
     ]
    },
    {
     "name": "stderr",
     "output_type": "stream",
     "text": [
      "Training: 100%|██████████| 898/898 [05:02<00:00,  2.97it/s, loss=0.812]\n",
      "Evaluating: 100%|██████████| 225/225 [00:37<00:00,  6.07it/s, loss=1.44] \n"
     ]
    },
    {
     "name": "stdout",
     "output_type": "stream",
     "text": [
      "Epoch 18/24\n",
      "Time: 339.79s\n",
      "Train Loss: 0.4705\n",
      "Validation Loss: 1.2673\n",
      "Validation Accuracy: 0.6541\n",
      "------------------------------\n"
     ]
    },
    {
     "name": "stderr",
     "output_type": "stream",
     "text": [
      "Training: 100%|██████████| 898/898 [05:02<00:00,  2.97it/s, loss=0.0138]\n"
     ]
    },
    {
     "name": "stdout",
     "output_type": "stream",
     "text": [
      "Unfroze layer: vit.encoder.layer.3.attention.attention.query.weight\n",
      "Unfroze layer: vit.encoder.layer.3.attention.attention.query.bias\n",
      "Unfroze layer: vit.encoder.layer.3.attention.attention.key.weight\n",
      "Unfroze layer: vit.encoder.layer.3.attention.attention.key.bias\n",
      "Unfroze layer: vit.encoder.layer.3.attention.attention.value.weight\n",
      "Unfroze layer: vit.encoder.layer.3.attention.attention.value.bias\n",
      "Unfroze layer: vit.encoder.layer.3.attention.output.dense.weight\n",
      "Unfroze layer: vit.encoder.layer.3.attention.output.dense.bias\n",
      "Unfroze layer: vit.encoder.layer.3.intermediate.dense.weight\n",
      "Unfroze layer: vit.encoder.layer.3.intermediate.dense.bias\n",
      "Unfroze layer: vit.encoder.layer.3.output.dense.weight\n",
      "Unfroze layer: vit.encoder.layer.3.output.dense.bias\n",
      "Unfroze layer: vit.encoder.layer.3.layernorm_before.weight\n",
      "Unfroze layer: vit.encoder.layer.3.layernorm_before.bias\n",
      "Unfroze layer: vit.encoder.layer.3.layernorm_after.weight\n",
      "Unfroze layer: vit.encoder.layer.3.layernorm_after.bias\n"
     ]
    },
    {
     "name": "stderr",
     "output_type": "stream",
     "text": [
      "Evaluating: 100%|██████████| 225/225 [00:36<00:00,  6.09it/s, loss=0.655]\n"
     ]
    },
    {
     "name": "stdout",
     "output_type": "stream",
     "text": [
      "Epoch 19/24\n",
      "Time: 339.16s\n",
      "Train Loss: 0.4071\n",
      "Validation Loss: 1.3751\n",
      "Validation Accuracy: 0.6399\n",
      "------------------------------\n"
     ]
    },
    {
     "name": "stderr",
     "output_type": "stream",
     "text": [
      "Training: 100%|██████████| 898/898 [05:20<00:00,  2.80it/s, loss=0.121] \n",
      "Evaluating: 100%|██████████| 225/225 [00:36<00:00,  6.11it/s, loss=0.822]\n"
     ]
    },
    {
     "name": "stdout",
     "output_type": "stream",
     "text": [
      "Epoch 20/24\n",
      "Time: 357.71s\n",
      "Train Loss: 0.3573\n",
      "Validation Loss: 1.4782\n",
      "Validation Accuracy: 0.6546\n",
      "------------------------------\n"
     ]
    },
    {
     "name": "stderr",
     "output_type": "stream",
     "text": [
      "Training: 100%|██████████| 898/898 [05:20<00:00,  2.80it/s, loss=0.652] \n",
      "Evaluating: 100%|██████████| 225/225 [00:36<00:00,  6.09it/s, loss=1.4]  \n"
     ]
    },
    {
     "name": "stdout",
     "output_type": "stream",
     "text": [
      "Epoch 21/24\n",
      "Time: 357.70s\n",
      "Train Loss: 0.3083\n",
      "Validation Loss: 1.5359\n",
      "Validation Accuracy: 0.6527\n",
      "------------------------------\n"
     ]
    },
    {
     "name": "stderr",
     "output_type": "stream",
     "text": [
      "Training: 100%|██████████| 898/898 [05:21<00:00,  2.80it/s, loss=0.00405]\n",
      "Evaluating: 100%|██████████| 225/225 [00:37<00:00,  6.07it/s, loss=1.82] \n"
     ]
    },
    {
     "name": "stdout",
     "output_type": "stream",
     "text": [
      "Epoch 22/24\n",
      "Time: 358.32s\n",
      "Train Loss: 0.2634\n",
      "Validation Loss: 1.6100\n",
      "Validation Accuracy: 0.6514\n",
      "------------------------------\n"
     ]
    },
    {
     "name": "stderr",
     "output_type": "stream",
     "text": [
      "Training: 100%|██████████| 898/898 [05:21<00:00,  2.80it/s, loss=0.744] \n",
      "Evaluating: 100%|██████████| 225/225 [00:36<00:00,  6.08it/s, loss=1.25] \n"
     ]
    },
    {
     "name": "stdout",
     "output_type": "stream",
     "text": [
      "Epoch 23/24\n",
      "Time: 358.07s\n",
      "Train Loss: 0.2304\n",
      "Validation Loss: 1.7245\n",
      "Validation Accuracy: 0.6517\n",
      "------------------------------\n"
     ]
    },
    {
     "name": "stderr",
     "output_type": "stream",
     "text": [
      "Training: 100%|██████████| 898/898 [05:21<00:00,  2.79it/s, loss=0.0854]\n",
      "Evaluating: 100%|██████████| 225/225 [00:37<00:00,  6.07it/s, loss=0.556]"
     ]
    },
    {
     "name": "stdout",
     "output_type": "stream",
     "text": [
      "Epoch 24/24\n",
      "Time: 358.50s\n",
      "Train Loss: 0.2040\n",
      "Validation Loss: 1.7737\n",
      "Validation Accuracy: 0.6519\n",
      "------------------------------\n",
      "Best model saved with validation loss: 1.0109\n"
     ]
    },
    {
     "name": "stderr",
     "output_type": "stream",
     "text": [
      "\n"
     ]
    }
   ],
   "source": [
    "# Freeze all layers initially\n",
    "for param in model.parameters():\n",
    "    param.requires_grad = False\n",
    "\n",
    "input_dim = model.classifier.in_features\n",
    "num_classes = 7\n",
    "model.classifier = CustomClassifier(input_dim, num_classes)\n",
    "model.classifier.to(device)\n",
    "\n",
    "'''\n",
    "for param in model.vit.parameters():\n",
    "    param.requires_grad = True\n",
    "'''\n",
    "\n",
    "optimizer = optim.Adam(model.classifier.parameters(), lr=2e-4) # try 0.01 0.001\n",
    "criterion = nn.CrossEntropyLoss()\n",
    "\n",
    "scheduler = optim.lr_scheduler.StepLR(optimizer, step_size=2, gamma=0.1)\n",
    "\n",
    "# Define a schedule to unfreeze layers gradually\n",
    "unfreeze_schedule = {\n",
    "    2: 'vit.encoder.layer.11',\n",
    "    4: 'vit.encoder.layer.10',\n",
    "    6: 'vit.encoder.layer.9',\n",
    "    8: 'vit.encoder.layer.8',\n",
    "    10: 'vit.encoder.layer.7',\n",
    "    12: 'vit.encoder.layer.6',\n",
    "    14: 'vit.encoder.layer.5',\n",
    "    16: 'vit.encoder.layer.4',\n",
    "    18: 'vit.encoder.layer.3',\n",
    "}\n",
    "\n",
    "transform = transforms.Compose([\n",
    "    transforms.Resize((224, 224)),\n",
    "    transforms.ToTensor(),\n",
    "    transforms.Normalize(mean=[0.5, 0.5, 0.5], std=[0.5, 0.5, 0.5]),\n",
    "])\n",
    "\n",
    "train_dataset = datasets.ImageFolder(root='archive/train', transform=transform)\n",
    "test_dataset = datasets.ImageFolder(root='archive/test', transform=transform)\n",
    "\n",
    "train_loader = DataLoader(train_dataset, batch_size=32, shuffle=True)\n",
    "test_loader = DataLoader(test_dataset, batch_size=32, shuffle=False)\n",
    "\n",
    "def train(model, dataloader, optimizer, criterion, device):\n",
    "    model.train()\n",
    "    total_loss = 0\n",
    "    progress_bar = tqdm(dataloader, desc='Training')\n",
    "    for images, labels in progress_bar:\n",
    "        images, labels = images.to(device), labels.to(device)\n",
    "        optimizer.zero_grad()\n",
    "        outputs = model(images).logits\n",
    "        loss = criterion(outputs, labels)\n",
    "        loss.backward()\n",
    "        optimizer.step()\n",
    "        total_loss += loss.item()\n",
    "        progress_bar.set_postfix(loss=loss.item())\n",
    "    return total_loss / len(dataloader)\n",
    "\n",
    "def evaluate(model, dataloader, criterion, device):\n",
    "    model.eval()\n",
    "    total_loss = 0\n",
    "    correct = 0\n",
    "    progress_bar = tqdm(dataloader, desc='Evaluating')\n",
    "    with torch.no_grad():\n",
    "        for images, labels in progress_bar:\n",
    "            images, labels = images.to(device), labels.to(device)\n",
    "            outputs = model(images).logits\n",
    "            loss = criterion(outputs, labels)\n",
    "            total_loss += loss.item()\n",
    "            _, preds = torch.max(outputs, 1)\n",
    "            correct += (preds == labels).sum().item()\n",
    "            progress_bar.set_postfix(loss=loss.item())\n",
    "    accuracy = correct / len(dataloader.dataset)\n",
    "    return total_loss / len(dataloader), accuracy\n",
    "\n",
    "# Lists to store metrics\n",
    "train_losses = []\n",
    "val_losses = []\n",
    "lr_list = []\n",
    "\n",
    "num_epochs = 24\n",
    "best_val_loss = float('inf')\n",
    "\n",
    "for epoch in range(num_epochs):\n",
    "    start_time = time.time()\n",
    "    train_loss = train(model, train_loader, optimizer, criterion, device)\n",
    "\n",
    "    # Gradually unfreeze layers\n",
    "    if epoch in unfreeze_schedule:\n",
    "        for name, param in model.named_parameters():\n",
    "            if unfreeze_schedule[epoch] in name:\n",
    "                param.requires_grad = True\n",
    "                print(f'Unfroze layer: {name}')\n",
    "        optimizer = torch.optim.Adam(filter(lambda p: p.requires_grad, model.parameters()), lr=1e-5)\n",
    "\n",
    "    val_loss, val_accuracy = evaluate(model, test_loader, criterion, device)\n",
    "    end_time = time.time()\n",
    "    epoch_duration = end_time - start_time\n",
    "    \n",
    "    train_losses.append(train_loss)\n",
    "    val_losses.append(val_loss)\n",
    "    lr_list.append(optimizer.param_groups[0]['lr'])\n",
    "    \n",
    "    print(f\"Epoch {epoch+1}/{num_epochs}\")\n",
    "    print(f\"Time: {epoch_duration:.2f}s\")\n",
    "    print(f\"Train Loss: {train_loss:.4f}\")\n",
    "    print(f\"Validation Loss: {val_loss:.4f}\")\n",
    "    print(f\"Validation Accuracy: {val_accuracy:.4f}\")\n",
    "    print('-' * 30)\n",
    "    \n",
    "    scheduler.step(val_loss)\n",
    "\n",
    "    if val_loss < best_val_loss:\n",
    "        best_val_loss = val_loss\n",
    "        torch.save(model.state_dict(), 'vit_fer2013_v1_6_test2.pth') #test 1 unfroze 4 layer from head, test 2 unfroze 9 layers\n",
    "        print(f\"Model saved with validation loss: {val_loss:.4f}\")\n",
    "\n",
    "print(f\"Best model saved with validation loss: {best_val_loss:.4f}\")"
   ]
  },
  {
   "cell_type": "code",
   "execution_count": 12,
   "metadata": {},
   "outputs": [
    {
     "name": "stdout",
     "output_type": "stream",
     "text": [
      "vit.embeddings.cls_token\n",
      "vit.embeddings.position_embeddings\n",
      "vit.embeddings.patch_embeddings.projection.weight\n",
      "vit.embeddings.patch_embeddings.projection.bias\n",
      "vit.encoder.layer.0.attention.attention.query.weight\n",
      "vit.encoder.layer.0.attention.attention.query.bias\n",
      "vit.encoder.layer.0.attention.attention.key.weight\n",
      "vit.encoder.layer.0.attention.attention.key.bias\n",
      "vit.encoder.layer.0.attention.attention.value.weight\n",
      "vit.encoder.layer.0.attention.attention.value.bias\n",
      "vit.encoder.layer.0.attention.output.dense.weight\n",
      "vit.encoder.layer.0.attention.output.dense.bias\n",
      "vit.encoder.layer.0.intermediate.dense.weight\n",
      "vit.encoder.layer.0.intermediate.dense.bias\n",
      "vit.encoder.layer.0.output.dense.weight\n",
      "vit.encoder.layer.0.output.dense.bias\n",
      "vit.encoder.layer.0.layernorm_before.weight\n",
      "vit.encoder.layer.0.layernorm_before.bias\n",
      "vit.encoder.layer.0.layernorm_after.weight\n",
      "vit.encoder.layer.0.layernorm_after.bias\n",
      "vit.encoder.layer.1.attention.attention.query.weight\n",
      "vit.encoder.layer.1.attention.attention.query.bias\n",
      "vit.encoder.layer.1.attention.attention.key.weight\n",
      "vit.encoder.layer.1.attention.attention.key.bias\n",
      "vit.encoder.layer.1.attention.attention.value.weight\n",
      "vit.encoder.layer.1.attention.attention.value.bias\n",
      "vit.encoder.layer.1.attention.output.dense.weight\n",
      "vit.encoder.layer.1.attention.output.dense.bias\n",
      "vit.encoder.layer.1.intermediate.dense.weight\n",
      "vit.encoder.layer.1.intermediate.dense.bias\n",
      "vit.encoder.layer.1.output.dense.weight\n",
      "vit.encoder.layer.1.output.dense.bias\n",
      "vit.encoder.layer.1.layernorm_before.weight\n",
      "vit.encoder.layer.1.layernorm_before.bias\n",
      "vit.encoder.layer.1.layernorm_after.weight\n",
      "vit.encoder.layer.1.layernorm_after.bias\n",
      "vit.encoder.layer.2.attention.attention.query.weight\n",
      "vit.encoder.layer.2.attention.attention.query.bias\n",
      "vit.encoder.layer.2.attention.attention.key.weight\n",
      "vit.encoder.layer.2.attention.attention.key.bias\n",
      "vit.encoder.layer.2.attention.attention.value.weight\n",
      "vit.encoder.layer.2.attention.attention.value.bias\n",
      "vit.encoder.layer.2.attention.output.dense.weight\n",
      "vit.encoder.layer.2.attention.output.dense.bias\n",
      "vit.encoder.layer.2.intermediate.dense.weight\n",
      "vit.encoder.layer.2.intermediate.dense.bias\n",
      "vit.encoder.layer.2.output.dense.weight\n",
      "vit.encoder.layer.2.output.dense.bias\n",
      "vit.encoder.layer.2.layernorm_before.weight\n",
      "vit.encoder.layer.2.layernorm_before.bias\n",
      "vit.encoder.layer.2.layernorm_after.weight\n",
      "vit.encoder.layer.2.layernorm_after.bias\n",
      "vit.encoder.layer.3.attention.attention.query.weight\n",
      "vit.encoder.layer.3.attention.attention.query.bias\n",
      "vit.encoder.layer.3.attention.attention.key.weight\n",
      "vit.encoder.layer.3.attention.attention.key.bias\n",
      "vit.encoder.layer.3.attention.attention.value.weight\n",
      "vit.encoder.layer.3.attention.attention.value.bias\n",
      "vit.encoder.layer.3.attention.output.dense.weight\n",
      "vit.encoder.layer.3.attention.output.dense.bias\n",
      "vit.encoder.layer.3.intermediate.dense.weight\n",
      "vit.encoder.layer.3.intermediate.dense.bias\n",
      "vit.encoder.layer.3.output.dense.weight\n",
      "vit.encoder.layer.3.output.dense.bias\n",
      "vit.encoder.layer.3.layernorm_before.weight\n",
      "vit.encoder.layer.3.layernorm_before.bias\n",
      "vit.encoder.layer.3.layernorm_after.weight\n",
      "vit.encoder.layer.3.layernorm_after.bias\n",
      "vit.encoder.layer.4.attention.attention.query.weight\n",
      "vit.encoder.layer.4.attention.attention.query.bias\n",
      "vit.encoder.layer.4.attention.attention.key.weight\n",
      "vit.encoder.layer.4.attention.attention.key.bias\n",
      "vit.encoder.layer.4.attention.attention.value.weight\n",
      "vit.encoder.layer.4.attention.attention.value.bias\n",
      "vit.encoder.layer.4.attention.output.dense.weight\n",
      "vit.encoder.layer.4.attention.output.dense.bias\n",
      "vit.encoder.layer.4.intermediate.dense.weight\n",
      "vit.encoder.layer.4.intermediate.dense.bias\n",
      "vit.encoder.layer.4.output.dense.weight\n",
      "vit.encoder.layer.4.output.dense.bias\n",
      "vit.encoder.layer.4.layernorm_before.weight\n",
      "vit.encoder.layer.4.layernorm_before.bias\n",
      "vit.encoder.layer.4.layernorm_after.weight\n",
      "vit.encoder.layer.4.layernorm_after.bias\n",
      "vit.encoder.layer.5.attention.attention.query.weight\n",
      "vit.encoder.layer.5.attention.attention.query.bias\n",
      "vit.encoder.layer.5.attention.attention.key.weight\n",
      "vit.encoder.layer.5.attention.attention.key.bias\n",
      "vit.encoder.layer.5.attention.attention.value.weight\n",
      "vit.encoder.layer.5.attention.attention.value.bias\n",
      "vit.encoder.layer.5.attention.output.dense.weight\n",
      "vit.encoder.layer.5.attention.output.dense.bias\n",
      "vit.encoder.layer.5.intermediate.dense.weight\n",
      "vit.encoder.layer.5.intermediate.dense.bias\n",
      "vit.encoder.layer.5.output.dense.weight\n",
      "vit.encoder.layer.5.output.dense.bias\n",
      "vit.encoder.layer.5.layernorm_before.weight\n",
      "vit.encoder.layer.5.layernorm_before.bias\n",
      "vit.encoder.layer.5.layernorm_after.weight\n",
      "vit.encoder.layer.5.layernorm_after.bias\n",
      "vit.encoder.layer.6.attention.attention.query.weight\n",
      "vit.encoder.layer.6.attention.attention.query.bias\n",
      "vit.encoder.layer.6.attention.attention.key.weight\n",
      "vit.encoder.layer.6.attention.attention.key.bias\n",
      "vit.encoder.layer.6.attention.attention.value.weight\n",
      "vit.encoder.layer.6.attention.attention.value.bias\n",
      "vit.encoder.layer.6.attention.output.dense.weight\n",
      "vit.encoder.layer.6.attention.output.dense.bias\n",
      "vit.encoder.layer.6.intermediate.dense.weight\n",
      "vit.encoder.layer.6.intermediate.dense.bias\n",
      "vit.encoder.layer.6.output.dense.weight\n",
      "vit.encoder.layer.6.output.dense.bias\n",
      "vit.encoder.layer.6.layernorm_before.weight\n",
      "vit.encoder.layer.6.layernorm_before.bias\n",
      "vit.encoder.layer.6.layernorm_after.weight\n",
      "vit.encoder.layer.6.layernorm_after.bias\n",
      "vit.encoder.layer.7.attention.attention.query.weight\n",
      "vit.encoder.layer.7.attention.attention.query.bias\n",
      "vit.encoder.layer.7.attention.attention.key.weight\n",
      "vit.encoder.layer.7.attention.attention.key.bias\n",
      "vit.encoder.layer.7.attention.attention.value.weight\n",
      "vit.encoder.layer.7.attention.attention.value.bias\n",
      "vit.encoder.layer.7.attention.output.dense.weight\n",
      "vit.encoder.layer.7.attention.output.dense.bias\n",
      "vit.encoder.layer.7.intermediate.dense.weight\n",
      "vit.encoder.layer.7.intermediate.dense.bias\n",
      "vit.encoder.layer.7.output.dense.weight\n",
      "vit.encoder.layer.7.output.dense.bias\n",
      "vit.encoder.layer.7.layernorm_before.weight\n",
      "vit.encoder.layer.7.layernorm_before.bias\n",
      "vit.encoder.layer.7.layernorm_after.weight\n",
      "vit.encoder.layer.7.layernorm_after.bias\n",
      "vit.encoder.layer.8.attention.attention.query.weight\n",
      "vit.encoder.layer.8.attention.attention.query.bias\n",
      "vit.encoder.layer.8.attention.attention.key.weight\n",
      "vit.encoder.layer.8.attention.attention.key.bias\n",
      "vit.encoder.layer.8.attention.attention.value.weight\n",
      "vit.encoder.layer.8.attention.attention.value.bias\n",
      "vit.encoder.layer.8.attention.output.dense.weight\n",
      "vit.encoder.layer.8.attention.output.dense.bias\n",
      "vit.encoder.layer.8.intermediate.dense.weight\n",
      "vit.encoder.layer.8.intermediate.dense.bias\n",
      "vit.encoder.layer.8.output.dense.weight\n",
      "vit.encoder.layer.8.output.dense.bias\n",
      "vit.encoder.layer.8.layernorm_before.weight\n",
      "vit.encoder.layer.8.layernorm_before.bias\n",
      "vit.encoder.layer.8.layernorm_after.weight\n",
      "vit.encoder.layer.8.layernorm_after.bias\n",
      "vit.encoder.layer.9.attention.attention.query.weight\n",
      "vit.encoder.layer.9.attention.attention.query.bias\n",
      "vit.encoder.layer.9.attention.attention.key.weight\n",
      "vit.encoder.layer.9.attention.attention.key.bias\n",
      "vit.encoder.layer.9.attention.attention.value.weight\n",
      "vit.encoder.layer.9.attention.attention.value.bias\n",
      "vit.encoder.layer.9.attention.output.dense.weight\n",
      "vit.encoder.layer.9.attention.output.dense.bias\n",
      "vit.encoder.layer.9.intermediate.dense.weight\n",
      "vit.encoder.layer.9.intermediate.dense.bias\n",
      "vit.encoder.layer.9.output.dense.weight\n",
      "vit.encoder.layer.9.output.dense.bias\n",
      "vit.encoder.layer.9.layernorm_before.weight\n",
      "vit.encoder.layer.9.layernorm_before.bias\n",
      "vit.encoder.layer.9.layernorm_after.weight\n",
      "vit.encoder.layer.9.layernorm_after.bias\n",
      "vit.encoder.layer.10.attention.attention.query.weight\n",
      "vit.encoder.layer.10.attention.attention.query.bias\n",
      "vit.encoder.layer.10.attention.attention.key.weight\n",
      "vit.encoder.layer.10.attention.attention.key.bias\n",
      "vit.encoder.layer.10.attention.attention.value.weight\n",
      "vit.encoder.layer.10.attention.attention.value.bias\n",
      "vit.encoder.layer.10.attention.output.dense.weight\n",
      "vit.encoder.layer.10.attention.output.dense.bias\n",
      "vit.encoder.layer.10.intermediate.dense.weight\n",
      "vit.encoder.layer.10.intermediate.dense.bias\n",
      "vit.encoder.layer.10.output.dense.weight\n",
      "vit.encoder.layer.10.output.dense.bias\n",
      "vit.encoder.layer.10.layernorm_before.weight\n",
      "vit.encoder.layer.10.layernorm_before.bias\n",
      "vit.encoder.layer.10.layernorm_after.weight\n",
      "vit.encoder.layer.10.layernorm_after.bias\n",
      "vit.encoder.layer.11.attention.attention.query.weight\n",
      "vit.encoder.layer.11.attention.attention.query.bias\n",
      "vit.encoder.layer.11.attention.attention.key.weight\n",
      "vit.encoder.layer.11.attention.attention.key.bias\n",
      "vit.encoder.layer.11.attention.attention.value.weight\n",
      "vit.encoder.layer.11.attention.attention.value.bias\n",
      "vit.encoder.layer.11.attention.output.dense.weight\n",
      "vit.encoder.layer.11.attention.output.dense.bias\n",
      "vit.encoder.layer.11.intermediate.dense.weight\n",
      "vit.encoder.layer.11.intermediate.dense.bias\n",
      "vit.encoder.layer.11.output.dense.weight\n",
      "vit.encoder.layer.11.output.dense.bias\n",
      "vit.encoder.layer.11.layernorm_before.weight\n",
      "vit.encoder.layer.11.layernorm_before.bias\n",
      "vit.encoder.layer.11.layernorm_after.weight\n",
      "vit.encoder.layer.11.layernorm_after.bias\n",
      "vit.layernorm.weight\n",
      "vit.layernorm.bias\n",
      "classifier.fc1.weight\n",
      "classifier.fc1.bias\n",
      "classifier.fc2.weight\n",
      "classifier.fc2.bias\n",
      "classifier.fc3.weight\n",
      "classifier.fc3.bias\n",
      "classifier.fc4.weight\n",
      "classifier.fc4.bias\n",
      "classifier.fc5.weight\n",
      "classifier.fc5.bias\n"
     ]
    }
   ],
   "source": [
    "for name, param in model.named_parameters():\n",
    "    print(name)"
   ]
  },
  {
   "cell_type": "code",
   "execution_count": 16,
   "metadata": {},
   "outputs": [
    {
     "name": "stdout",
     "output_type": "stream",
     "text": [
      "Model saved to vit_v1_6_test2_final.pth\n"
     ]
    }
   ],
   "source": [
    "model_save_path = 'vit_v1_6_test2_final.pth'\n",
    "torch.save(model.state_dict(), model_save_path)\n",
    "print(f\"Model saved to {model_save_path}\")"
   ]
  },
  {
   "cell_type": "code",
   "execution_count": 13,
   "metadata": {},
   "outputs": [
    {
     "data": {
      "image/png": "[encoded data removed]",
      "text/plain": [
       "<Figure size 1200x500 with 2 Axes>"
      ]
     },
     "metadata": {},
     "output_type": "display_data"
    }
   ],
   "source": [
    "# Plotting\n",
    "import matplotlib.pyplot as plt\n",
    "\n",
    "epochs = range(1, num_epochs + 1)\n",
    "\n",
    "plt.figure(figsize=(12, 5))\n",
    "\n",
    "# Plot train and validation loss against epochs\n",
    "plt.subplot(1, 2, 1)\n",
    "plt.plot(epochs, train_losses, label='Train Loss')\n",
    "plt.plot(epochs, val_losses, label='Validation Loss')\n",
    "plt.xlabel('Epochs')\n",
    "plt.ylabel('Loss')\n",
    "plt.title('Train and Validation Loss vs. Epochs')\n",
    "plt.legend()\n",
    "\n",
    "# Plot train and validation loss against learning rates\n",
    "plt.subplot(1, 2, 2)\n",
    "plt.plot(lr_list, train_losses, label='Train Loss')\n",
    "plt.plot(lr_list, val_losses, label='Validation Loss')\n",
    "plt.xlabel('Learning Rate')\n",
    "plt.ylabel('Loss')\n",
    "plt.title('Train and Validation Loss vs. Learning Rate')\n",
    "plt.legend()\n",
    "\n",
    "plt.tight_layout()\n",
    "plt.show()"
   ]
  },
  {
   "cell_type": "code",
   "execution_count": 14,
   "metadata": {},
   "outputs": [
    {
     "name": "stderr",
     "output_type": "stream",
     "text": [
      "C:\\Users\\zln92\\AppData\\Local\\Temp\\ipykernel_10420\\1806678823.py:32: FutureWarning: \n",
      "\n",
      "Passing `palette` without assigning `hue` is deprecated and will be removed in v0.14.0. Assign the `y` variable to `hue` and set `legend=False` for the same effect.\n",
      "\n",
      "  sns.barplot(x=category_accuracies, y=category_names, ax=ax, palette='viridis')\n"
     ]
    },
    {
     "data": {
      "image/png": "[encoded data removed]",
      "text/plain": [
       "<Figure size 1000x400 with 1 Axes>"
      ]
     },
     "metadata": {},
     "output_type": "display_data"
    }
   ],
   "source": [
    "import matplotlib.pyplot as plt\n",
    "import numpy as np\n",
    "import seaborn as sns\n",
    "from sklearn.metrics import accuracy_score\n",
    "\n",
    "def calculate_category_accuracies(model, dataloader, device, num_classes):\n",
    "    model.eval()\n",
    "    true_labels = []\n",
    "    predicted_labels = []\n",
    "\n",
    "    with torch.no_grad():\n",
    "        for images, labels in dataloader:\n",
    "            images, labels = images.to(device), labels.to(device)\n",
    "            outputs = model(images).logits\n",
    "            _, preds = torch.max(outputs, 1)\n",
    "            true_labels.extend(labels.cpu().numpy())\n",
    "            predicted_labels.extend(preds.cpu().numpy())\n",
    "\n",
    "    category_accuracies = []\n",
    "    for i in range(num_classes):\n",
    "        category_mask = (np.array(true_labels) == i)\n",
    "        category_acc = accuracy_score(np.array(true_labels)[category_mask], np.array(predicted_labels)[category_mask])\n",
    "        category_accuracies.append(category_acc)\n",
    "\n",
    "    return category_accuracies\n",
    "\n",
    "category_names = ['Angry', 'Disgust', 'Fear', 'Happy', 'Sad', 'Surprise', 'Neutral']\n",
    "\n",
    "category_accuracies = calculate_category_accuracies(model, test_loader, device, num_classes)\n",
    "\n",
    "fig, ax = plt.subplots(figsize=(10, 4))  \n",
    "sns.barplot(x=category_accuracies, y=category_names, ax=ax, palette='viridis')\n",
    "ax.set_xlabel('Accuracy')\n",
    "ax.set_ylabel('Category')\n",
    "ax.set_title('Accuracy by Category')\n",
    "plt.show()"
   ]
  },
  {
   "cell_type": "code",
   "execution_count": 15,
   "metadata": {},
   "outputs": [
    {
     "data": {
      "image/png": "[encoded data removed]",
      "text/plain": [
       "<Figure size 1000x800 with 2 Axes>"
      ]
     },
     "metadata": {},
     "output_type": "display_data"
    }
   ],
   "source": [
    "import seaborn as sns\n",
    "from sklearn.metrics import confusion_matrix\n",
    "\n",
    "def plot_confusion_matrix(model, dataloader, device, num_classes, category_names):\n",
    "    model.eval()\n",
    "    true_labels = []\n",
    "    predicted_labels = []\n",
    "\n",
    "    with torch.no_grad():\n",
    "        for images, labels in dataloader:\n",
    "            images, labels = images.to(device), labels.to(device)\n",
    "            outputs = model(images).logits\n",
    "            _, preds = torch.max(outputs, 1)\n",
    "            true_labels.extend(labels.cpu().numpy())\n",
    "            predicted_labels.extend(preds.cpu().numpy())\n",
    "\n",
    "    cm = confusion_matrix(true_labels, predicted_labels, labels=range(num_classes))\n",
    "    plt.figure(figsize=(10, 8))\n",
    "    sns.heatmap(cm, annot=True, fmt='d', cmap='Blues', xticklabels=category_names, yticklabels=category_names)\n",
    "    plt.xlabel('Predicted Label')\n",
    "    plt.ylabel('True Label')\n",
    "    plt.title('Confusion Matrix')\n",
    "    plt.show()\n",
    "\n",
    "category_names = ['Angry', 'Disgust', 'Fear', 'Happy', 'Sad', 'Surprise', 'Neutral']\n",
    "\n",
    "plot_confusion_matrix(model, test_loader, device, num_classes, category_names)"
   ]
  }
 ],
 "metadata": {
  "kernelspec": {
   "display_name": "Python 3",
   "language": "python",
   "name": "python3"
  },
  "language_info": {
   "codemirror_mode": {
    "name": "ipython",
    "version": 3
   },
   "file_extension": ".py",
   "mimetype": "text/x-python",
   "name": "python",
   "nbconvert_exporter": "python",
   "pygments_lexer": "ipython3",
   "version": "3.10.8"
  }
 },
 "nbformat": 4,
 "nbformat_minor": 2
}
